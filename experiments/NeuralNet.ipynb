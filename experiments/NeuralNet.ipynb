{
 "cells": [
  {
   "cell_type": "markdown",
   "metadata": {},
   "source": [
    "This experiment is buggy. First of all, it is highly initialization dependant, resulting in 53% to 59% accuracy in consecutive runs. The results are also somehow unnatural."
   ]
  },
  {
   "cell_type": "code",
   "execution_count": 1,
   "metadata": {
    "collapsed": true
   },
   "outputs": [],
   "source": [
    "import csv\n",
    "import numpy as np\n",
    "import tensorflow as tf"
   ]
  },
  {
   "cell_type": "markdown",
   "metadata": {},
   "source": [
    "# Dataset manipulation"
   ]
  },
  {
   "cell_type": "markdown",
   "metadata": {},
   "source": [
    "## Dataset constants"
   ]
  },
  {
   "cell_type": "code",
   "execution_count": 2,
   "metadata": {
    "collapsed": true
   },
   "outputs": [],
   "source": [
    "NUMBER_OF_HEROES = 114\n",
    "DATASET_SIZE = 500000\n",
    "TEST_RATIO = 0.25"
   ]
  },
  {
   "cell_type": "markdown",
   "metadata": {},
   "source": [
    "Converts a list of hero IDs from the heroes.json file to a list of 228 elements, where the 1 value means the hero at that index is in the game"
   ]
  },
  {
   "cell_type": "code",
   "execution_count": 3,
   "metadata": {
    "collapsed": true
   },
   "outputs": [],
   "source": [
    "def index_heroes(heroes):\n",
    "    heroes_indexed = np.zeros(2 * NUMBER_OF_HEROES)\n",
    "\n",
    "    for i in range(10):\n",
    "        if i < 5:\n",
    "            heroes_indexed[int(heroes[i]) - 1] = 1.0\n",
    "        else:\n",
    "            heroes_indexed[int(heroes[i]) + 113] = 1.0\n",
    "\n",
    "    return heroes_indexed"
   ]
  },
  {
   "cell_type": "markdown",
   "metadata": {},
   "source": [
    "## Transform the file into a list"
   ]
  },
  {
   "cell_type": "code",
   "execution_count": 4,
   "metadata": {
    "collapsed": true
   },
   "outputs": [],
   "source": [
    "input_file = open('706d.csv', 'rt')"
   ]
  },
  {
   "cell_type": "code",
   "execution_count": 5,
   "metadata": {},
   "outputs": [
    {
     "name": "stdout",
     "output_type": "stream",
     "text": [
      "['3243130796', '1', '85', '58', '104', '106', '1', '87', '108', '109', '33', '69', '1', '3208']\n"
     ]
    }
   ],
   "source": [
    "csv_reader = csv.reader(input_file, delimiter=',')\n",
    "data_list = list(csv_reader)\n",
    "\n",
    "print data_list[0]"
   ]
  },
  {
   "cell_type": "markdown",
   "metadata": {},
   "source": [
    "## Split the dataset into training and test sets"
   ]
  },
  {
   "cell_type": "code",
   "execution_count": 6,
   "metadata": {
    "collapsed": true
   },
   "outputs": [],
   "source": [
    "train_count = int(DATASET_SIZE * (1 - TEST_RATIO))\n",
    "test_count = DATASET_SIZE - train_count\n",
    "\n",
    "x_train = np.zeros((train_count, 2 * NUMBER_OF_HEROES))\n",
    "y_train = np.zeros(train_count)\n",
    "\n",
    "x_test = np.zeros((test_count, 2 * NUMBER_OF_HEROES))\n",
    "y_test = np.zeros(test_count)\n",
    "\n",
    "# print x_train.shape"
   ]
  },
  {
   "cell_type": "markdown",
   "metadata": {},
   "source": [
    "## Extract only the relevant information\n",
    "The features are the heroes in the game as a list of 228 binary elements and the output is 1 if radiant won the game, 0 otherwise."
   ]
  },
  {
   "cell_type": "code",
   "execution_count": 7,
   "metadata": {
    "collapsed": true
   },
   "outputs": [],
   "source": [
    "for i in range(train_count):\n",
    "    heroes_indexed = index_heroes(data_list[i][2:12])\n",
    "    x_train[i] = heroes_indexed\n",
    "    y_train[i] = float(data_list[i][1])\n",
    "\n",
    "for j in range(test_count):\n",
    "    heroes_indexed = index_heroes(data_list[train_count + j][2:12])\n",
    "    x_test[j] = heroes_indexed\n",
    "    y_test[j] = float(data_list[train_count + j][1])"
   ]
  },
  {
   "cell_type": "markdown",
   "metadata": {},
   "source": [
    "# Tensorflow operations"
   ]
  },
  {
   "cell_type": "code",
   "execution_count": 8,
   "metadata": {
    "collapsed": true
   },
   "outputs": [],
   "source": [
    "learning_rate = 0.001\n",
    "training_epochs = 20\n",
    "batch_size = 10000\n",
    "display_step = 1"
   ]
  },
  {
   "cell_type": "code",
   "execution_count": 14,
   "metadata": {
    "collapsed": true
   },
   "outputs": [],
   "source": [
    "n_inputs = 228\n",
    "n_hidden1 = 1000\n",
    "n_hidden2 = 1000\n",
    "n_outputs = 2"
   ]
  },
  {
   "cell_type": "code",
   "execution_count": 15,
   "metadata": {
    "collapsed": true
   },
   "outputs": [],
   "source": [
    "X = tf.placeholder(tf.float32, shape=(None, n_inputs), name=\"X\")\n",
    "y = tf.placeholder(tf.int64, shape=(None), name=\"y\")"
   ]
  },
  {
   "cell_type": "code",
   "execution_count": 16,
   "metadata": {
    "collapsed": true
   },
   "outputs": [],
   "source": [
    "def neuron_layer(X, n_neurons, name, activation=None):\n",
    "    with tf.name_scope(name):\n",
    "        n_inputs = int(X.get_shape()[1])\n",
    "        stddev = 2 / np.sqrt(n_inputs)\n",
    "        init = tf.truncated_normal((n_inputs, n_neurons), stddev=stddev)\n",
    "        W = tf.Variable(init, name=\"kernel\")\n",
    "        b = tf.Variable(tf.zeros([n_neurons]), name=\"bias\")\n",
    "        Z = tf.matmul(X, W) + b\n",
    "        if activation is not None:\n",
    "            return activation(Z)\n",
    "        else:\n",
    "            return Z"
   ]
  },
  {
   "cell_type": "code",
   "execution_count": 17,
   "metadata": {
    "collapsed": true
   },
   "outputs": [],
   "source": [
    "with tf.name_scope(\"dnn\"):\n",
    "    hidden1 = neuron_layer(X, n_hidden1, name=\"hidden1\",\n",
    "                           activation=tf.nn.relu)\n",
    "    hidden2 = neuron_layer(hidden1, n_hidden2, name=\"hidden2\",\n",
    "                           activation=tf.nn.relu)\n",
    "    logits = neuron_layer(hidden2, n_outputs, name=\"outputs\")"
   ]
  },
  {
   "cell_type": "code",
   "execution_count": 18,
   "metadata": {
    "collapsed": true
   },
   "outputs": [],
   "source": [
    "with tf.name_scope(\"loss\"):\n",
    "    xentropy = tf.nn.sparse_softmax_cross_entropy_with_logits(labels=y,\n",
    "                                                              logits=logits)\n",
    "    loss = tf.reduce_mean(xentropy, name=\"loss\")"
   ]
  },
  {
   "cell_type": "code",
   "execution_count": 19,
   "metadata": {
    "collapsed": true
   },
   "outputs": [],
   "source": [
    "learning_rate = 0.01\n",
    "\n",
    "with tf.name_scope(\"train\"):\n",
    "    optimizer = tf.train.GradientDescentOptimizer(learning_rate)\n",
    "    training_op = optimizer.minimize(loss)"
   ]
  },
  {
   "cell_type": "code",
   "execution_count": 20,
   "metadata": {
    "collapsed": true
   },
   "outputs": [],
   "source": [
    "\n",
    "with tf.name_scope(\"eval\"):\n",
    "    correct = tf.nn.in_top_k(logits, y, 1)\n",
    "    accuracy = tf.reduce_mean(tf.cast(correct, tf.float32))"
   ]
  },
  {
   "cell_type": "code",
   "execution_count": 21,
   "metadata": {
    "collapsed": true
   },
   "outputs": [],
   "source": [
    "init = tf.global_variables_initializer()\n",
    "saver = tf.train.Saver()"
   ]
  },
  {
   "cell_type": "code",
   "execution_count": 22,
   "metadata": {
    "collapsed": true
   },
   "outputs": [],
   "source": [
    "hero_dict = {}"
   ]
  },
  {
   "cell_type": "code",
   "execution_count": 23,
   "metadata": {
    "collapsed": true
   },
   "outputs": [],
   "source": [
    "n_epochs = 30\n",
    "batch_size = 500\n",
    "\n",
    "hero_list = [102, 65, 74, 77, 86, 94, 59, 13, 84]"
   ]
  },
  {
   "cell_type": "code",
   "execution_count": 24,
   "metadata": {
    "scrolled": true
   },
   "outputs": [
    {
     "name": "stdout",
     "output_type": "stream",
     "text": [
      "(0, 'Train accuracy:', 0.59799999, 'Test accuracy:', 0.56466413)\n",
      "(1, 'Train accuracy:', 0.60999995, 'Test accuracy:', 0.57451218)\n",
      "(2, 'Train accuracy:', 0.60999995, 'Test accuracy:', 0.57848811)\n",
      "(3, 'Train accuracy:', 0.61399996, 'Test accuracy:', 0.58072811)\n",
      "(4, 'Train accuracy:', 0.60800004, 'Test accuracy:', 0.5826081)\n",
      "(5, 'Train accuracy:', 0.61000001, 'Test accuracy:', 0.58387214)\n",
      "(6, 'Train accuracy:', 0.61000001, 'Test accuracy:', 0.58521605)\n",
      "(7, 'Train accuracy:', 0.60999995, 'Test accuracy:', 0.58571208)\n",
      "(8, 'Train accuracy:', 0.61199999, 'Test accuracy:', 0.58608812)\n",
      "(9, 'Train accuracy:', 0.61199999, 'Test accuracy:', 0.58653605)\n",
      "(10, 'Train accuracy:', 0.61400002, 'Test accuracy:', 0.58706415)\n",
      "(11, 'Train accuracy:', 0.61199999, 'Test accuracy:', 0.58754414)\n",
      "(12, 'Train accuracy:', 0.61199999, 'Test accuracy:', 0.58764023)\n",
      "(13, 'Train accuracy:', 0.61399996, 'Test accuracy:', 0.58793616)\n",
      "(14, 'Train accuracy:', 0.61000001, 'Test accuracy:', 0.58844012)\n",
      "(15, 'Train accuracy:', 0.60799992, 'Test accuracy:', 0.58879203)\n",
      "(16, 'Train accuracy:', 0.60799998, 'Test accuracy:', 0.58889604)\n",
      "(17, 'Train accuracy:', 0.60999995, 'Test accuracy:', 0.58918411)\n",
      "(18, 'Train accuracy:', 0.60599995, 'Test accuracy:', 0.58918417)\n",
      "(19, 'Train accuracy:', 0.60599995, 'Test accuracy:', 0.58945614)\n",
      "(20, 'Train accuracy:', 0.60799992, 'Test accuracy:', 0.58964008)\n",
      "(21, 'Train accuracy:', 0.60999995, 'Test accuracy:', 0.58977622)\n",
      "(22, 'Train accuracy:', 0.61199993, 'Test accuracy:', 0.5899601)\n",
      "(23, 'Train accuracy:', 0.61199993, 'Test accuracy:', 0.59011215)\n",
      "(24, 'Train accuracy:', 0.61400002, 'Test accuracy:', 0.59034425)\n",
      "(25, 'Train accuracy:', 0.61799997, 'Test accuracy:', 0.59067225)\n",
      "(26, 'Train accuracy:', 0.61800003, 'Test accuracy:', 0.59060812)\n",
      "(27, 'Train accuracy:', 0.61799991, 'Test accuracy:', 0.59075212)\n",
      "(28, 'Train accuracy:', 0.61800003, 'Test accuracy:', 0.59076023)\n",
      "(29, 'Train accuracy:', 0.62400001, 'Test accuracy:', 0.59100819)\n"
     ]
    }
   ],
   "source": [
    "with tf.Session() as sess:\n",
    "    init.run()\n",
    "    for epoch in range(n_epochs):\n",
    "        for iteration in range(x_train.shape[0] // batch_size):\n",
    "            batch_x = x_train[iteration * batch_size:(iteration + 1) * batch_size, :]\n",
    "            batch_y = y_train[iteration * batch_size:(iteration + 1) * batch_size]\n",
    "            \n",
    "            sess.run(training_op, feed_dict={X: batch_x, y: batch_y})\n",
    "        acc_train = accuracy.eval(feed_dict={X: batch_x, y: batch_y})\n",
    "        acc_test = accuracy.eval(feed_dict={X: x_test,\n",
    "                                            y: y_test})\n",
    "        print(epoch, \"Train accuracy:\", acc_train, \"Test accuracy:\", acc_test)\n",
    "\n",
    "    hero_dict = {}\n",
    "    for i in range(114):\n",
    "        new_list = np.zeros((1, 228))\n",
    "        \n",
    "        if (i + 1) not in hero_list and (i + 1) != 24:\n",
    "            hero_list.append(i + 1)\n",
    "            \n",
    "            for j in range(10):\n",
    "                if j < 5:\n",
    "                    new_list[0][hero_list[j] - 1] = 1\n",
    "                else:\n",
    "                    new_list[0][hero_list[j] - 1 + 114] = 1\n",
    "\n",
    "            del hero_list[-1]\n",
    "            \n",
    "            Z = logits.eval(feed_dict={X: new_list})\n",
    "            hero_dict[i + 1] = Z[0][0]\n",
    "        "
   ]
  },
  {
   "cell_type": "code",
   "execution_count": 25,
   "metadata": {
    "collapsed": true
   },
   "outputs": [],
   "source": [
    "import json\n",
    "json_file = json.load(open(\"heroes.json\", \"rt\"))\n",
    "heroes = json_file[\"heroes\"]\n",
    "\n",
    "def find_hero(index):\n",
    "    for hero in heroes:\n",
    "        if int(hero[\"id\"]) == index:\n",
    "            return hero[\"localized_name\"]"
   ]
  },
  {
   "cell_type": "code",
   "execution_count": 26,
   "metadata": {
    "scrolled": false
   },
   "outputs": [
    {
     "name": "stdout",
     "output_type": "stream",
     "text": [
      "(u'Bloodseeker', 0.18943946)\n",
      "(u'Skeleton King', 0.17385648)\n",
      "(u'Sven', 0.17081083)\n",
      "(u'Phantom Assassin', 0.14096205)\n",
      "(u'Axe', 0.13011174)\n",
      "(u'Abyssal Underlord', 0.11923712)\n",
      "(u'Spectre', 0.11279327)\n",
      "(u'Troll Warlord', 0.077175736)\n",
      "(u'Crystal Maiden', 0.057774529)\n",
      "(u'Visage', 0.057242323)\n",
      "(u'Centaur Warrunner', 0.050076481)\n",
      "(u'Clockwerk', 0.04910418)\n",
      "(u'Bane', 0.037684917)\n",
      "(u'Slardar', 0.0087103015)\n",
      "(u'Terrorblade', -0.015610469)\n",
      "(u'Bristleback', -0.023496594)\n",
      "(u'Zeus', -0.023852326)\n",
      "(u'Sand King', -0.02429077)\n",
      "(u'Jakiro', -0.024937388)\n",
      "(u'Anti-Mage', -0.025404524)\n",
      "(u'Spirit Breaker', -0.029957987)\n",
      "(u'Doom', -0.048753727)\n",
      "(u'Lion', -0.058821943)\n",
      "(u'Undying', -0.061064679)\n",
      "(u'Outworld Devourer', -0.061304316)\n",
      "(u'Viper', -0.066293232)\n",
      "(u'Phantom Lancer', -0.066336207)\n",
      "(u'Timbersaw', -0.079281338)\n",
      "(u'Pugna', -0.081107251)\n",
      "(u'Windranger', -0.091414429)\n",
      "(u'Bounty Hunter', -0.091937706)\n",
      "(u'Gyrocopter', -0.093054041)\n",
      "(u'Luna', -0.1007828)\n",
      "(u'Faceless Void', -0.103449)\n",
      "(u'Winter Wyvern', -0.10882106)\n",
      "(u'Lifestealer', -0.11025907)\n",
      "(u'Keeper of the Light', -0.11338515)\n",
      "(u'Shadow Fiend', -0.11587031)\n",
      "(u'Tidehunter', -0.12099046)\n",
      "(u'Silencer', -0.12295791)\n",
      "(u'Elder Titan', -0.12664647)\n",
      "(u'Disruptor', -0.14239599)\n",
      "(u'Juggernaut', -0.14412402)\n",
      "(u'Dark Seer', -0.14498356)\n",
      "(u'Warlock', -0.14641726)\n",
      "(u'Storm Spirit', -0.14840284)\n",
      "(u'Broodmother', -0.15649916)\n",
      "(u'Beastmaster', -0.15716256)\n",
      "(u'Dazzle', -0.16461727)\n",
      "(u'Naga Siren', -0.16531055)\n",
      "(u'Pudge', -0.1680827)\n",
      "(u'Chen', -0.16966821)\n",
      "(u\"Nature's Prophet\", -0.17028737)\n",
      "(u'Oracle', -0.17368558)\n",
      "(u'Chaos Knight', -0.17584442)\n",
      "(u'Lich', -0.18024659)\n",
      "(u'Templar Assassin', -0.18319713)\n",
      "(u'Witch Doctor', -0.18358672)\n",
      "(u'Dragon Knight', -0.18404813)\n",
      "(u'Venomancer', -0.18548894)\n",
      "(u'Omniknight', -0.19099714)\n",
      "(u'Weaver', -0.19292341)\n",
      "(u'Drow Ranger', -0.19469275)\n",
      "(u'Riki', -0.20106167)\n",
      "(u'Shadow Shaman', -0.20621067)\n",
      "(u'Legion Commander', -0.21162164)\n",
      "(u'Queen of Pain', -0.214608)\n",
      "(u'Sniper', -0.22456963)\n",
      "(u'Lina', -0.22618097)\n",
      "(u'Earthshaker', -0.2296917)\n",
      "(u'Treant Protector', -0.23456615)\n",
      "(u'Enchantress', -0.23520918)\n",
      "(u'Brewmaster', -0.23753493)\n",
      "(u'Enigma', -0.23783568)\n",
      "(u'Ancient Apparition', -0.23940633)\n",
      "(u'Vengeful Spirit', -0.24245366)\n",
      "(u'Death Prophet', -0.24380071)\n",
      "(u'Razor', -0.24604657)\n",
      "(u'Tinker', -0.24637972)\n",
      "(u'Necrophos', -0.25884527)\n",
      "(u'Night Stalker', -0.2590161)\n",
      "(u'Clinkz', -0.2623964)\n",
      "(u'Techies', -0.26382649)\n",
      "(u'Ursa', -0.26821604)\n",
      "(u'Tiny', -0.27191496)\n",
      "(u'Phoenix', -0.28824812)\n",
      "(u'Earth Spirit', -0.28877312)\n",
      "(u'Mirana', -0.31500751)\n",
      "(u'Skywrath Mage', -0.3217214)\n",
      "(u'Ember Spirit', -0.33387706)\n",
      "(u'Arc Warden', -0.33460149)\n",
      "(u'Monkey King', -0.34521961)\n",
      "(u'Magnus', -0.34917462)\n",
      "(u'Meepo', -0.35011029)\n",
      "(u'Lone Druid', -0.36703956)\n",
      "(u'Leshrac', -0.38604981)\n",
      "(u'Alchemist', -0.39599377)\n",
      "(u'Kunkka', -0.40748131)\n",
      "(u'Morphling', -0.40875575)\n",
      "(u'Slark', -0.41864812)\n",
      "(u'Nyx Assassin', -0.4375217)\n",
      "(u'Shadow Demon', -0.46520358)\n",
      "(u'Wisp', -0.49037585)\n",
      "(u'Tusk', -0.6064685)\n"
     ]
    }
   ],
   "source": [
    "import operator\n",
    "sorted_dict = sorted(hero_dict.items(), key=operator.itemgetter(1), reverse=True)\n",
    "\n",
    "for (k, v) in sorted_dict:\n",
    "    print (find_hero(k) ,v)"
   ]
  },
  {
   "cell_type": "code",
   "execution_count": null,
   "metadata": {
    "collapsed": true
   },
   "outputs": [],
   "source": []
  }
 ],
 "metadata": {
  "kernelspec": {
   "display_name": "Python 2",
   "language": "python",
   "name": "python2"
  },
  "language_info": {
   "codemirror_mode": {
    "name": "ipython",
    "version": 2
   },
   "file_extension": ".py",
   "mimetype": "text/x-python",
   "name": "python",
   "nbconvert_exporter": "python",
   "pygments_lexer": "ipython2",
   "version": "2.7.12"
  }
 },
 "nbformat": 4,
 "nbformat_minor": 2
}
