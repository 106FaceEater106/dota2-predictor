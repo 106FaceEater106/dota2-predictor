{
 "cells": [
  {
   "cell_type": "code",
   "execution_count": 1,
   "metadata": {
    "collapsed": true
   },
   "outputs": [],
   "source": [
    "import csv\n",
    "import numpy as np\n",
    "import tensorflow as tf\n",
    "import sys"
   ]
  },
  {
   "cell_type": "code",
   "execution_count": 2,
   "metadata": {
    "collapsed": true
   },
   "outputs": [],
   "source": [
    "NUMBER_OF_HEROES = 114\n",
    "DATASET_SIZE = 500000\n",
    "TEST_RATIO = 0.25"
   ]
  },
  {
   "cell_type": "code",
   "execution_count": 3,
   "metadata": {
    "collapsed": true
   },
   "outputs": [],
   "source": [
    "def index_heroes(heroes):\n",
    "    \"\"\" Converts a list of heroes into list of 0s and 1s\n",
    "\n",
    "    heroes -- list of heroes to be converted\n",
    "    \"\"\"\n",
    "\n",
    "    heroes_indexed = np.zeros(2 * NUMBER_OF_HEROES)\n",
    "\n",
    "    for i in range(10):\n",
    "        if i < 5:\n",
    "            heroes_indexed[int(heroes[i]) - 1] = 1.0\n",
    "        else:\n",
    "            heroes_indexed[int(heroes[i]) + 113] = 1.0\n",
    "\n",
    "    return heroes_indexed"
   ]
  },
  {
   "cell_type": "code",
   "execution_count": 4,
   "metadata": {
    "collapsed": true
   },
   "outputs": [],
   "source": [
    "input_file = open('complete_augmented.csv', 'rt')"
   ]
  },
  {
   "cell_type": "code",
   "execution_count": 5,
   "metadata": {
    "collapsed": true
   },
   "outputs": [],
   "source": [
    "csv_reader = csv.reader(input_file, delimiter=',')\n",
    "data_list = list(csv_reader)"
   ]
  },
  {
   "cell_type": "code",
   "execution_count": 6,
   "metadata": {},
   "outputs": [],
   "source": [
    "train_count = int(DATASET_SIZE * (1 - TEST_RATIO))\n",
    "test_count = len(data_list) - train_count\n",
    "\n",
    "x_train = np.zeros((train_count, 2 * NUMBER_OF_HEROES))\n",
    "y_train = np.zeros((train_count, 2))\n",
    "\n",
    "x_test = np.zeros((test_count, 2 * NUMBER_OF_HEROES))\n",
    "y_test = np.zeros((test_count, 2))\n",
    "\n",
    "# print x_train.shape"
   ]
  },
  {
   "cell_type": "code",
   "execution_count": 7,
   "metadata": {},
   "outputs": [],
   "source": [
    "for i in range(train_count):\n",
    "    heroes_indexed = index_heroes(data_list[i][3:13])\n",
    "    x_train[i] = heroes_indexed\n",
    "    y_train[i][0] = float(data_list[i][1])\n",
    "    y_train[i][1] = float(data_list[i][2])\n",
    "    \n",
    "\n",
    "for j in range(test_count):\n",
    "    heroes_indexed = index_heroes(data_list[train_count + j][3:13])\n",
    "    x_test[j] = heroes_indexed\n",
    "    y_test[j][0] = float(data_list[train_count + j][1])\n",
    "    y_test[j][1] = float(data_list[train_count + j][2])\n"
   ]
  },
  {
   "cell_type": "code",
   "execution_count": 8,
   "metadata": {},
   "outputs": [],
   "source": [
    "learning_rate = 0.001\n",
    "training_epochs = 10\n",
    "batch_size = 100\n",
    "display_step = 1"
   ]
  },
  {
   "cell_type": "code",
   "execution_count": 17,
   "metadata": {
    "collapsed": true
   },
   "outputs": [],
   "source": [
    "n_hidden_1 = 20 # 1st layer number of features\n",
    "n_input = 2 * NUMBER_OF_HEROES # MNIST data input (img shape: 28*28)\n",
    "n_classes = 2 # MNIST total classes (0-9 digits)\n",
    "\n",
    "x = tf.placeholder(\"float\", [None, n_input])\n",
    "y = tf.placeholder(\"float\", [None, n_classes])"
   ]
  },
  {
   "cell_type": "code",
   "execution_count": 18,
   "metadata": {
    "collapsed": true
   },
   "outputs": [],
   "source": [
    "def multilayer_perceptron(x, weights, biases):\n",
    "    # Hidden layer with RELU activation\n",
    "    layer = tf.add(tf.matmul(x, weights['h1']), biases['b1'])\n",
    "    layer = tf.nn.relu(layer)\n",
    "\n",
    "    out_layer = tf.matmul(layer, weights['out']) + biases['out']\n",
    "    return out_layer"
   ]
  },
  {
   "cell_type": "code",
   "execution_count": 19,
   "metadata": {},
   "outputs": [],
   "source": [
    "weights = {\n",
    "    'h1': tf.Variable(tf.random_normal([n_input, n_hidden_1])),\n",
    "    'out': tf.Variable(tf.random_normal([n_hidden_1, n_classes]))\n",
    "}\n",
    "biases = {\n",
    "    'b1': tf.Variable(tf.random_normal([n_hidden_1])),\n",
    "    'out': tf.Variable(tf.random_normal([n_classes]))\n",
    "}\n",
    "\n",
    "# Construct model\n",
    "pred = multilayer_perceptron(x, weights, biases)\n",
    "\n",
    "# Define loss and optimizer\n",
    "cost = tf.reduce_mean(tf.nn.softmax_cross_entropy_with_logits(logits=pred, labels=y))\n",
    "optimizer = tf.train.AdamOptimizer(learning_rate=learning_rate).minimize(cost)\n",
    "\n",
    "# Initializing the variables\n",
    "init = tf.global_variables_initializer()"
   ]
  },
  {
   "cell_type": "code",
   "execution_count": 21,
   "metadata": {},
   "outputs": [
    {
     "name": "stdout",
     "output_type": "stream",
     "text": [
      "Epoch: 0001 cost= 1.242029010\n",
      "Epoch: 0002 cost= 0.673978383\n",
      "Epoch: 0003 cost= 0.666867588\n",
      "Epoch: 0004 cost= 0.665596595\n",
      "Epoch: 0005 cost= 0.665015954\n",
      "Epoch: 0006 cost= 0.664602598\n",
      "Epoch: 0007 cost= 0.664230105\n",
      "Epoch: 0008 cost= 0.663869582\n",
      "Epoch: 0009 cost= 0.663510806\n",
      "Epoch: 0010 cost= 0.663149284\n",
      "Optimization Finished!\n",
      "Accuracy: 0.595128\n"
     ]
    }
   ],
   "source": [
    "with tf.Session() as sess:\n",
    "    sess.run(init)\n",
    "\n",
    "    # Training cycle\n",
    "    for epoch in range(training_epochs):\n",
    "        avg_cost = 0.\n",
    "        total_batch = int(x_train.shape[0] / batch_size)\n",
    "        # Loop over all batches\n",
    "        for i in range(total_batch):\n",
    "            batch_x = x_train[i * batch_size:(i + 1) * batch_size, :]\n",
    "            batch_y = y_train[i * batch_size:(i + 1) * batch_size, :]\n",
    "            \n",
    "            # Run optimization op (backprop) and cost op (to get loss value)\n",
    "            _, c = sess.run([optimizer, cost], feed_dict={x: batch_x,\n",
    "                                                          y: batch_y})\n",
    "            # Compute average loss\n",
    "            avg_cost += c / total_batch\n",
    "        # Display logs per epoch step\n",
    "        if epoch % display_step == 0:\n",
    "            print \"Epoch:\", '%04d' % (epoch+1), \"cost=\", \\\n",
    "                \"{:.9f}\".format(avg_cost)\n",
    "    print \"Optimization Finished!\"\n",
    "\n",
    "    # Test model\n",
    "    correct_prediction = tf.equal(tf.argmax(pred, 1), tf.argmax(y, 1))\n",
    "    # Calculate accuracy\n",
    "    accuracy = tf.reduce_mean(tf.cast(correct_prediction, \"float\"))\n",
    "    print \"Accuracy:\", accuracy.eval({x: x_test, y: y_test})"
   ]
  },
  {
   "cell_type": "code",
   "execution_count": null,
   "metadata": {
    "collapsed": true
   },
   "outputs": [],
   "source": []
  },
  {
   "cell_type": "code",
   "execution_count": null,
   "metadata": {
    "collapsed": true
   },
   "outputs": [],
   "source": []
  }
 ],
 "metadata": {
  "kernelspec": {
   "display_name": "Python 2",
   "language": "python",
   "name": "python2"
  },
  "language_info": {
   "codemirror_mode": {
    "name": "ipython",
    "version": 2
   },
   "file_extension": ".py",
   "mimetype": "text/x-python",
   "name": "python",
   "nbconvert_exporter": "python",
   "pygments_lexer": "ipython2",
   "version": "2.7.12"
  }
 },
 "nbformat": 4,
 "nbformat_minor": 2
}
