{
 "cells": [
  {
   "cell_type": "code",
   "execution_count": 1,
   "metadata": {
    "collapsed": true
   },
   "outputs": [],
   "source": [
    "import csv\n",
    "import numpy as np\n",
    "from sklearn.linear_model import LogisticRegression\n",
    "from sklearn.model_selection import train_test_split, GridSearchCV\n",
    "from sklearn import metrics\n",
    "from sklearn.externals import joblib"
   ]
  },
  {
   "cell_type": "markdown",
   "metadata": {},
   "source": [
    "# Data preprocessing\n",
    "## Importing heroes.json"
   ]
  },
  {
   "cell_type": "code",
   "execution_count": 2,
   "metadata": {
    "collapsed": true
   },
   "outputs": [],
   "source": [
    "import json\n",
    "json_file = json.load(open(\"../preprocessing/heroes.json\", \"rt\"))\n",
    "heroes_list = json_file[\"heroes\"]"
   ]
  },
  {
   "cell_type": "code",
   "execution_count": 3,
   "metadata": {
    "collapsed": true
   },
   "outputs": [],
   "source": [
    "def find_hero(index):\n",
    "    for hero in heroes_list:\n",
    "        if int(hero[\"id\"]) == index:\n",
    "            return hero[\"localized_name\"]"
   ]
  },
  {
   "cell_type": "code",
   "execution_count": 4,
   "metadata": {
    "collapsed": true
   },
   "outputs": [],
   "source": [
    "input_file = open(\"../706d.csv\", \"rt\")\n",
    "csv_reader = csv.reader(input_file, delimiter=\",\")\n",
    "input_data = np.array(list(csv_reader))"
   ]
  },
  {
   "cell_type": "code",
   "execution_count": 5,
   "metadata": {},
   "outputs": [
    {
     "data": {
      "text/plain": [
       "(506029, 14)"
      ]
     },
     "execution_count": 5,
     "metadata": {},
     "output_type": "execute_result"
    }
   ],
   "source": [
    "input_data.shape"
   ]
  },
  {
   "cell_type": "markdown",
   "metadata": {},
   "source": [
    "## Filtering games according to the desired MMR"
   ]
  },
  {
   "cell_type": "code",
   "execution_count": 6,
   "metadata": {},
   "outputs": [
    {
     "name": "stdout",
     "output_type": "stream",
     "text": [
      "(44709, 14)\n"
     ]
    }
   ],
   "source": [
    "filtered_data = []\n",
    "for i in range(input_data.shape[0]):\n",
    "    if int(input_data[i][-1]) >= 4000:\n",
    "        filtered_data.append(input_data[i])\n",
    "        \n",
    "filtered_data = np.array(filtered_data)\n",
    "print filtered_data.shape"
   ]
  },
  {
   "cell_type": "code",
   "execution_count": 7,
   "metadata": {},
   "outputs": [
    {
     "name": "stdout",
     "output_type": "stream",
     "text": [
      "228\n"
     ]
    }
   ],
   "source": [
    "NUMBER_OF_FEATURES = 2 * 114\n",
    "print NUMBER_OF_FEATURES"
   ]
  },
  {
   "cell_type": "markdown",
   "metadata": {},
   "source": [
    "## Initializing dictionaries for storing winrates"
   ]
  },
  {
   "cell_type": "code",
   "execution_count": 8,
   "metadata": {
    "collapsed": true
   },
   "outputs": [],
   "source": [
    "X_matrix = np.zeros((filtered_data.shape[0], NUMBER_OF_FEATURES), dtype=np.float32)\n",
    "y_matrix = np.zeros((filtered_data.shape[0], ), dtype=np.int8)"
   ]
  },
  {
   "cell_type": "code",
   "execution_count": 9,
   "metadata": {
    "collapsed": true
   },
   "outputs": [],
   "source": [
    "winrates_radiant = {}\n",
    "winrates_radiant['apps'] = np.zeros((114, 114), dtype=np.float32)\n",
    "winrates_radiant['wins'] = np.zeros((114, 114), dtype=np.float32)\n",
    "winrates_radiant['winrate'] = np.full((114, 114), -1, dtype=np.float32)"
   ]
  },
  {
   "cell_type": "code",
   "execution_count": 10,
   "metadata": {
    "collapsed": true
   },
   "outputs": [],
   "source": [
    "winrates_dire = {}\n",
    "winrates_dire['apps'] = np.zeros((114, 114), dtype=np.float32)\n",
    "winrates_dire['wins'] = np.zeros((114, 114), dtype=np.float32)\n",
    "winrates_dire['winrate'] = np.full((114, 114), -1, dtype=np.float32)"
   ]
  },
  {
   "cell_type": "code",
   "execution_count": 11,
   "metadata": {
    "collapsed": true
   },
   "outputs": [],
   "source": [
    "counter_radiant = {}\n",
    "counter_radiant['apps'] = np.zeros((114, 114), dtype=np.float32)\n",
    "counter_radiant['wins'] = np.zeros((114, 114), dtype=np.float32)\n",
    "counter_radiant['winrate'] = np.full((114, 114), -1, dtype=np.float32)"
   ]
  },
  {
   "cell_type": "code",
   "execution_count": 12,
   "metadata": {
    "collapsed": true
   },
   "outputs": [],
   "source": [
    "counter_dire = {}\n",
    "counter_dire['apps'] = np.zeros((114, 114), dtype=np.float32)\n",
    "counter_dire['wins'] = np.zeros((114, 114), dtype=np.float32)\n",
    "counter_dire['winrate'] = np.full((114, 114), -1, dtype=np.float32)"
   ]
  },
  {
   "cell_type": "markdown",
   "metadata": {},
   "source": [
    "## Converting the filtered data to the 228 features format"
   ]
  },
  {
   "cell_type": "code",
   "execution_count": 13,
   "metadata": {},
   "outputs": [
    {
     "name": "stdout",
     "output_type": "stream",
     "text": [
      "Prepared the data for ML\n",
      "CPU times: user 360 ms, sys: 24 ms, total: 384 ms\n",
      "Wall time: 340 ms\n"
     ]
    }
   ],
   "source": [
    "%%time\n",
    "\n",
    "for i in range(filtered_data.shape[0]):\n",
    "    hero_list = filtered_data[i][2:12]\n",
    "    radiant_win = filtered_data[i][1]\n",
    "    \n",
    "    for j in range(5):\n",
    "        \n",
    "        X_matrix[i][int(hero_list[j]) - 1] = 1\n",
    "        \n",
    "    for j in range(5):\n",
    "        X_matrix[i][int(hero_list[j + 5]) - 1 + 114] = 1\n",
    "    \n",
    "    y_matrix[i] = int(radiant_win)\n",
    "\n",
    "print \"Prepared the data for ML\""
   ]
  },
  {
   "cell_type": "markdown",
   "metadata": {},
   "source": [
    "## Splitting the data into train and test sets"
   ]
  },
  {
   "cell_type": "code",
   "execution_count": 14,
   "metadata": {
    "collapsed": true
   },
   "outputs": [],
   "source": [
    "X_train, X_test, y_train, y_test = \\\n",
    "    train_test_split(X_matrix, y_matrix, test_size=0.2, random_state=42)"
   ]
  },
  {
   "cell_type": "markdown",
   "metadata": {},
   "source": [
    "## Updating the winrates for synergies and counters if there is enough information"
   ]
  },
  {
   "cell_type": "code",
   "execution_count": 15,
   "metadata": {},
   "outputs": [
    {
     "name": "stdout",
     "output_type": "stream",
     "text": [
      "10000\n",
      "20000\n",
      "30000\n",
      "CPU times: user 18.9 s, sys: 0 ns, total: 18.9 s\n",
      "Wall time: 19 s\n"
     ]
    }
   ],
   "source": [
    "%%time\n",
    "\n",
    "for i in range(X_train.shape[0]):\n",
    "    if i % 10000 == 9999:\n",
    "        print (i + 1)\n",
    "        \n",
    "    radiant_win = y_train[i]\n",
    "    heroes = X_train[i]\n",
    "    \n",
    "    indices_list = []\n",
    "    for j in range(len(heroes)):\n",
    "        if heroes[j] == 1:\n",
    "            indices_list.append(j)\n",
    "            \n",
    "    for j in range(len(indices_list)):\n",
    "        for k in range(len(indices_list)):\n",
    "            if j != k and indices_list[j] < 114 and indices_list[k] < 114:\n",
    "                winrates_radiant['apps'][indices_list[j]][indices_list[k]] += 1\n",
    "            \n",
    "                if radiant_win == 1:\n",
    "                    winrates_radiant['wins'][indices_list[j]][indices_list[k]] += 1\n",
    "                    \n",
    "            if j != k and indices_list[j] >= 114 and indices_list[k] >= 114:\n",
    "                winrates_dire['apps'][indices_list[j] - 114][indices_list[k] - 114] += 1\n",
    "                \n",
    "                if radiant_win == 0:\n",
    "                    winrates_dire['wins'][indices_list[j] - 114][indices_list[k] - 114] += 1\n",
    "                    \n",
    "            if indices_list[j] < 114 and indices_list[k] >= 114:\n",
    "                counter_radiant['apps'][indices_list[j]][indices_list[k] - 114] += 1\n",
    "                counter_dire['apps'][indices_list[k] - 114][indices_list[j]] += 1\n",
    "                \n",
    "                if radiant_win == 1:\n",
    "                    counter_radiant['wins'][indices_list[j]][indices_list[k] - 114] += 1\n",
    "                else:\n",
    "                    counter_dire['wins'][indices_list[k] - 114][indices_list[j]] += 1\n",
    "                "
   ]
  },
  {
   "cell_type": "code",
   "execution_count": 16,
   "metadata": {},
   "outputs": [],
   "source": [
    "for i in range(114):\n",
    "    for j in range(114):\n",
    "        if i != j and i != 23 and j != 23:\n",
    "            if winrates_radiant['apps'][i][j] < 10:\n",
    "                # print \"Didn't find enough matches together of heroes %d and %d on radiant\" % (i + 1, j + 1)\n",
    "                pass\n",
    "            else:\n",
    "                winrates_radiant['winrate'][i][j] = winrates_radiant['wins'][i][j] / float(winrates_radiant['apps'][i][j])\n",
    "                \n",
    "            if winrates_dire['apps'][i][j] < 10:\n",
    "                # print \"Didn't find enough matches together of heroes %d and %d on dire\" % (i + 1, j + 1)\n",
    "                pass\n",
    "            else:\n",
    "                winrates_dire['winrate'][i][j] = winrates_dire['wins'][i][j] / float(winrates_dire['apps'][i][j])\n",
    "                \n",
    "            if counter_radiant['apps'][i][j] < 10:\n",
    "                # print \"Didn't find enough matches together of heroes %d and %d on radiant\" % (i + 1, j + 1)\n",
    "                pass\n",
    "            else:\n",
    "                counter_radiant['winrate'][i][j] = counter_radiant['wins'][i][j] / float(counter_radiant['apps'][i][j])\n",
    "                \n",
    "            if counter_dire['apps'][i][j] < 10:\n",
    "                # print \"Didn't find enough matches together of heroes %d and %d on radiant\" % (i + 1, j + 1)\n",
    "                pass\n",
    "            else:\n",
    "                counter_dire['winrate'][i][j] = counter_dire['wins'][i][j] / float(counter_dire['apps'][i][j])"
   ]
  },
  {
   "cell_type": "markdown",
   "metadata": {},
   "source": [
    "## Only save the advantages (current_winrate - global_winrate)"
   ]
  },
  {
   "cell_type": "code",
   "execution_count": 17,
   "metadata": {
    "collapsed": true
   },
   "outputs": [],
   "source": [
    "for j in range(114):\n",
    "    if j != 23:\n",
    "        apps_radiant = np.sum(winrates_radiant['apps'][j])\n",
    "        wins_radiant = np.sum(winrates_radiant['wins'][j])\n",
    "\n",
    "        global_radiant_winrate = wins_radiant / apps_radiant\n",
    "\n",
    "        for i in range(len(winrates_radiant['winrate'][j])):\n",
    "            if winrates_radiant['winrate'][j][i] != 0.:\n",
    "                winrates_radiant['winrate'][j][i] -= global_radiant_winrate\n",
    "\n",
    "        apps_dire = np.sum(winrates_dire['apps'][j])\n",
    "        wins_dire = np.sum(winrates_dire['wins'][j])\n",
    "\n",
    "        global_dire_winrate = wins_dire / apps_dire\n",
    "\n",
    "        for i in range(len(winrates_dire['winrate'][j])):\n",
    "            if winrates_dire['winrate'][j][i] != 0.:\n",
    "                winrates_dire['winrate'][j][i] -= global_dire_winrate\n",
    "    "
   ]
  },
  {
   "cell_type": "markdown",
   "metadata": {},
   "source": [
    "## Augment game data"
   ]
  },
  {
   "cell_type": "code",
   "execution_count": 18,
   "metadata": {
    "collapsed": true
   },
   "outputs": [],
   "source": [
    "def augment_synergy(hero_list):\n",
    "    syn_rad = 0\n",
    "    syn_dire = 0\n",
    "    cnt_rad = 0\n",
    "    cnt_dire = 0\n",
    "    \n",
    "    for i in range(5):\n",
    "        for j in range(5):\n",
    "            if i > j:\n",
    "                syn_rad += winrates_radiant['winrate'][int(hero_list[i]) - 1][int(hero_list[j]) - 1]\n",
    "                syn_dire += winrates_dire['winrate'][int(hero_list[i + 5]) - 1][int(hero_list[j + 5]) - 1]\n",
    "                \n",
    "            cnt_rad += counter_radiant['winrate'][int(hero_list[i]) - 1][int(hero_list[j + 5]) - 1]\n",
    "            cnt_dire += counter_dire['winrate'][int(hero_list[j + 5]) - 1][int(hero_list[i]) - 1]\n",
    "    \n",
    "    return (syn_rad - syn_dire, cnt_rad - cnt_dire)"
   ]
  },
  {
   "cell_type": "markdown",
   "metadata": {},
   "source": [
    "## Augment the train data set"
   ]
  },
  {
   "cell_type": "code",
   "execution_count": 19,
   "metadata": {},
   "outputs": [
    {
     "name": "stdout",
     "output_type": "stream",
     "text": [
      "10000\n",
      "20000\n",
      "30000\n",
      "CPU times: user 10.9 s, sys: 240 ms, total: 11.1 s\n",
      "Wall time: 10.6 s\n"
     ]
    }
   ],
   "source": [
    "%%time\n",
    "\n",
    "X_train_aug = np.zeros((X_train.shape[0], X_train.shape[1] + 2), dtype=np.float32)\n",
    "X_train_aug[:,:-2] = X_train\n",
    "\n",
    "for i in range(X_train.shape[0]):\n",
    "    if i % 10000 == 9999:\n",
    "        print (i + 1)\n",
    "        \n",
    "    not_indexed = []\n",
    "    for j in range(len(X_train_aug[i])):\n",
    "        if X_train_aug[i][j] == 1:\n",
    "            not_indexed.append(j % 114 + 1)\n",
    "            \n",
    "    X_train_aug[i][-2:] = augment_synergy(not_indexed)"
   ]
  },
  {
   "cell_type": "markdown",
   "metadata": {},
   "source": [
    "## Augment the test data set"
   ]
  },
  {
   "cell_type": "code",
   "execution_count": 20,
   "metadata": {},
   "outputs": [
    {
     "name": "stdout",
     "output_type": "stream",
     "text": [
      "CPU times: user 2.71 s, sys: 16 ms, total: 2.73 s\n",
      "Wall time: 2.67 s\n"
     ]
    }
   ],
   "source": [
    "%%time\n",
    "\n",
    "X_test_aug = np.zeros((X_test.shape[0], X_test.shape[1] + 2), dtype=np.float32)\n",
    "X_test_aug[:,:-2] = X_test\n",
    "\n",
    "for i in range(X_test.shape[0]):\n",
    "    if i % 10000 == 9999:\n",
    "        print (i + 1)\n",
    "        \n",
    "    not_indexed = []\n",
    "    for j in range(len(X_test_aug[i])):\n",
    "        if X_test_aug[i][j] == 1:\n",
    "            not_indexed.append(j % 114 + 1)\n",
    "            \n",
    "    X_test_aug[i][-2:] = augment_synergy(not_indexed)"
   ]
  },
  {
   "cell_type": "code",
   "execution_count": 21,
   "metadata": {},
   "outputs": [
    {
     "name": "stdout",
     "output_type": "stream",
     "text": [
      "X train shape:  (35767, 228)\n",
      "X test shape:  (8942, 228)\n",
      "y train shape:  (35767,)\n",
      "y test shape:  (8942,)\n"
     ]
    }
   ],
   "source": [
    "print \"X train shape: \", X_train.shape\n",
    "print \"X test shape: \", X_test.shape\n",
    "print \"y train shape: \", y_train.shape\n",
    "print \"y test shape: \", y_test.shape"
   ]
  },
  {
   "cell_type": "markdown",
   "metadata": {},
   "source": [
    "# Train the models\n",
    "## Train the non-augmented model"
   ]
  },
  {
   "cell_type": "code",
   "execution_count": 22,
   "metadata": {},
   "outputs": [
    {
     "data": {
      "text/plain": [
       "LogisticRegression(C=1.0, class_weight=None, dual=False, fit_intercept=True,\n",
       "          intercept_scaling=1, max_iter=100, multi_class='ovr', n_jobs=-1,\n",
       "          penalty='l2', random_state=None, solver='liblinear', tol=0.0001,\n",
       "          verbose=0, warm_start=False)"
      ]
     },
     "execution_count": 22,
     "metadata": {},
     "output_type": "execute_result"
    }
   ],
   "source": [
    "model = LogisticRegression(n_jobs=-1)\n",
    "model.fit(X_train, y_train)"
   ]
  },
  {
   "cell_type": "code",
   "execution_count": 23,
   "metadata": {
    "collapsed": true
   },
   "outputs": [],
   "source": [
    "probabilities = model.predict_proba(X_test)\n",
    "roc_auc_score = metrics.roc_auc_score(y_test, probabilities[:, 1])"
   ]
  },
  {
   "cell_type": "code",
   "execution_count": 24,
   "metadata": {},
   "outputs": [
    {
     "name": "stdout",
     "output_type": "stream",
     "text": [
      "0.600901330557\n"
     ]
    }
   ],
   "source": [
    "print roc_auc_score"
   ]
  },
  {
   "cell_type": "markdown",
   "metadata": {},
   "source": [
    "## Train the augmented model"
   ]
  },
  {
   "cell_type": "code",
   "execution_count": 25,
   "metadata": {},
   "outputs": [
    {
     "data": {
      "text/plain": [
       "LogisticRegression(C=1.0, class_weight=None, dual=False, fit_intercept=True,\n",
       "          intercept_scaling=1, max_iter=100, multi_class='ovr', n_jobs=-1,\n",
       "          penalty='l2', random_state=None, solver='liblinear', tol=0.0001,\n",
       "          verbose=0, warm_start=False)"
      ]
     },
     "execution_count": 25,
     "metadata": {},
     "output_type": "execute_result"
    }
   ],
   "source": [
    "model_aug = LogisticRegression(n_jobs=-1)\n",
    "model_aug.fit(X_train_aug, y_train)"
   ]
  },
  {
   "cell_type": "code",
   "execution_count": 26,
   "metadata": {
    "collapsed": true
   },
   "outputs": [],
   "source": [
    "probabilities_aug = model_aug.predict_proba(X_test_aug)\n",
    "roc_auc_score_aug = metrics.roc_auc_score(y_test, probabilities_aug[:, 1])"
   ]
  },
  {
   "cell_type": "code",
   "execution_count": 27,
   "metadata": {},
   "outputs": [
    {
     "name": "stdout",
     "output_type": "stream",
     "text": [
      "0.561353197022\n"
     ]
    }
   ],
   "source": [
    "print roc_auc_score_aug"
   ]
  },
  {
   "cell_type": "markdown",
   "metadata": {},
   "source": [
    "## Make predictions with the augmented model\n",
    "Higher score means higher chance for dire to win\n",
    "\n",
    "Need to implement for radiant too"
   ]
  },
  {
   "cell_type": "code",
   "execution_count": 28,
   "metadata": {
    "collapsed": true
   },
   "outputs": [],
   "source": [
    "#hero_list = [102, 65, 74, 77, 86, 94, 59, 13, 84] # github example\n",
    "hero_list = [114, 108, 16, 95, 74, 88, 70, 83, 9]"
   ]
  },
  {
   "cell_type": "code",
   "execution_count": 29,
   "metadata": {
    "collapsed": true
   },
   "outputs": [],
   "source": [
    "hero_dict = {}\n",
    "for i in range(114):\n",
    "    new_list = np.zeros(230)\n",
    "    if (i + 1) not in hero_list and (i + 1) != 24:\n",
    "        hero_list.append(i + 1)\n",
    "        \n",
    "        for j in range(10):\n",
    "            if j < 5:\n",
    "                new_list[hero_list[j] - 1] = 1\n",
    "            else:\n",
    "                new_list[hero_list[j] - 1 + 114] = 1\n",
    "            \n",
    "        synergy = augment_synergy(hero_list)\n",
    "        new_list[228] = synergy[0]\n",
    "        new_list[229] = synergy[1]\n",
    "        del hero_list[-1]\n",
    "        \n",
    "        hero_dict[i + 1] = model_aug.predict_proba(new_list.reshape(1, -1))[0][0]  "
   ]
  },
  {
   "cell_type": "code",
   "execution_count": 30,
   "metadata": {},
   "outputs": [
    {
     "name": "stdout",
     "output_type": "stream",
     "text": [
      "(u'Gyrocopter', 0.8958928681384527)\n",
      "(u'Naga Siren', 0.88783839807396925)\n",
      "(u'Drow Ranger', 0.85680400114301702)\n",
      "(u'Leshrac', 0.7929109222697508)\n",
      "(u'Batrider', 0.77871637570125363)\n",
      "(u'Visage', 0.72345539974493378)\n",
      "(u'Night Stalker', 0.71261654812637432)\n",
      "(u'Sniper', 0.70306277109684223)\n",
      "(u'Enchantress', 0.68928772562426288)\n",
      "(u'Jakiro', 0.67998715337846771)\n",
      "(u'Skywrath Mage', 0.66547708386593296)\n",
      "(u'Enigma', 0.66358006888537791)\n",
      "(u'Necrophos', 0.66125057094007611)\n",
      "(u'Bane', 0.65595757320725978)\n",
      "(u'Wisp', 0.64593813574314196)\n",
      "(u'Riki', 0.64577832280720093)\n",
      "(u'Dark Seer', 0.64524807891006497)\n",
      "(u'Abaddon', 0.62014120268075423)\n",
      "(u'Elder Titan', 0.61708465872823848)\n",
      "(u'Phantom Lancer', 0.61579160269462396)\n",
      "(u'Phoenix', 0.61175243592281392)\n",
      "(u'Bloodseeker', 0.60888866001556008)\n",
      "(u'Spirit Breaker', 0.60459476306908955)\n",
      "(u'Medusa', 0.60299879897815722)\n",
      "(u'Warlock', 0.58835982616106719)\n",
      "(u'Crystal Maiden', 0.58342041158006441)\n",
      "(u'Witch Doctor', 0.55878106526419291)\n",
      "(u'Brewmaster', 0.55280650353658634)\n",
      "(u'Zeus', 0.54808722084834971)\n",
      "(u'Timbersaw', 0.54202321419255473)\n",
      "(u'Tinker', 0.53708782307789238)\n",
      "(u'Axe', 0.53619706976935422)\n",
      "(u'Bounty Hunter', 0.53219781313430503)\n",
      "(u'Storm Spirit', 0.53111077116863892)\n",
      "(u'Death Prophet', 0.52783128497889886)\n",
      "(u'Faceless Void', 0.52213906069034355)\n",
      "(u'Broodmother', 0.5208254377958399)\n",
      "(u'Windranger', 0.5143129154213707)\n",
      "(u'Venomancer', 0.51356782178163385)\n",
      "(u'Anti-Mage', 0.51138454017270296)\n",
      "(u'Outworld Devourer', 0.50886016034310355)\n",
      "(u'Lina', 0.50675899220005827)\n",
      "(u'Weaver', 0.503865054156308)\n",
      "(u'Viper', 0.5016159608163101)\n",
      "(u'Spectre', 0.50053612624293664)\n",
      "(u'Templar Assassin', 0.4923279250257282)\n",
      "(u'Puck', 0.49220685493804772)\n",
      "(u'Shadow Fiend', 0.49214871166768281)\n",
      "(u'Pugna', 0.48459049836659374)\n",
      "(u'Lich', 0.47849506447581391)\n",
      "(u'Disruptor', 0.47767127234518625)\n",
      "(u'Meepo', 0.47626548167999527)\n",
      "(u'Pudge', 0.47626099383165799)\n",
      "(u'Slark', 0.47508202464593186)\n",
      "(u'Arc Warden', 0.47217755400065442)\n",
      "(u'Rubick', 0.47158770935983418)\n",
      "(u'Ember Spirit', 0.46975806400439069)\n",
      "(u\"Nature's Prophet\", 0.46679530172621631)\n",
      "(u'Dazzle', 0.46050937253247859)\n",
      "(u'Doom', 0.45198305382703652)\n",
      "(u'Juggernaut', 0.45046632056687597)\n",
      "(u'Tidehunter', 0.44648929559613892)\n",
      "(u'Terrorblade', 0.43782595384105605)\n",
      "(u'Centaur Warrunner', 0.4316409343737404)\n",
      "(u'Tusk', 0.42577921139174335)\n",
      "(u'Slardar', 0.42298419119710617)\n",
      "(u'Bristleback', 0.42272576998264078)\n",
      "(u'Omniknight', 0.41835304794908856)\n",
      "(u'Ogre Magi', 0.41667330531797186)\n",
      "(u'Phantom Assassin', 0.41280900423685241)\n",
      "(u'Keeper of the Light', 0.41168312873256552)\n",
      "(u'Magnus', 0.40601773268957719)\n",
      "(u'Sven', 0.40565256939996674)\n",
      "(u'Lycan', 0.40554455599435157)\n",
      "(u'Earthshaker', 0.40305821727761937)\n",
      "(u'Morphling', 0.39896836687714998)\n",
      "(u'Wraith King', 0.38462839561850182)\n",
      "(u'Shadow Demon', 0.37875967408056688)\n",
      "(u'Silencer', 0.37331538569031897)\n",
      "(u'Vengeful Spirit', 0.3689690500413747)\n",
      "(u'Lifestealer', 0.36886304233401634)\n",
      "(u'Kunkka', 0.36861316168151492)\n",
      "(u'Oracle', 0.36540025730957404)\n",
      "(u'Earth Spirit', 0.3649072407091386)\n",
      "(u'Chaos Knight', 0.36324793144278356)\n",
      "(u'Undying', 0.36246278915922303)\n",
      "(u'Clockwerk', 0.3603224341890009)\n",
      "(u'Lion', 0.35610653297700634)\n",
      "(u'Luna', 0.35395536590229915)\n",
      "(u'Queen of Pain', 0.3538167087159021)\n",
      "(u'Shadow Shaman', 0.34638562707456133)\n",
      "(u'Winter Wyvern', 0.3366077699854213)\n",
      "(u'Tiny', 0.32387771933563347)\n",
      "(u'Legion Commander', 0.29754413094744936)\n",
      "(u'Ancient Apparition', 0.29599530631089588)\n",
      "(u'Clinkz', 0.28492719421122115)\n",
      "(u'Dragon Knight', 0.28447219624335651)\n",
      "(u'Lone Druid', 0.28101348751255595)\n",
      "(u'Beastmaster', 0.26445079078284606)\n",
      "(u'Techies', 0.23796488135323779)\n",
      "(u'Razor', 0.20412177079315952)\n",
      "(u'Huskar', 0.18570944853976434)\n",
      "(u'Alchemist', 0.17017435259186886)\n",
      "(u'Chen', 0.091639235964995569)\n"
     ]
    }
   ],
   "source": [
    "import operator\n",
    "sorted_dict = sorted(hero_dict.items(), key=operator.itemgetter(1), reverse=True)\n",
    "\n",
    "for (k, v) in sorted_dict:\n",
    "    print (find_hero(k) ,v)"
   ]
  },
  {
   "cell_type": "code",
   "execution_count": null,
   "metadata": {
    "collapsed": true
   },
   "outputs": [],
   "source": []
  },
  {
   "cell_type": "code",
   "execution_count": null,
   "metadata": {
    "collapsed": true
   },
   "outputs": [],
   "source": []
  }
 ],
 "metadata": {
  "kernelspec": {
   "display_name": "Python 2",
   "language": "python",
   "name": "python2"
  },
  "language_info": {
   "codemirror_mode": {
    "name": "ipython",
    "version": 2
   },
   "file_extension": ".py",
   "mimetype": "text/x-python",
   "name": "python",
   "nbconvert_exporter": "python",
   "pygments_lexer": "ipython2",
   "version": "2.7.12"
  }
 },
 "nbformat": 4,
 "nbformat_minor": 2
}
